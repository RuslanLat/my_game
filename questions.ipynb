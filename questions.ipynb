{
 "cells": [
  {
   "cell_type": "markdown",
   "metadata": {},
   "source": [
    "Архив вопросов\n",
    "\n",
    "http://gameshows.ru/wiki/%D0%9A%D0%B0%D1%82%D0%B5%D0%B3%D0%BE%D1%80%D0%B8%D1%8F:%D0%A1%D0%B2%D0%BE%D1%8F_%D0%B8%D0%B3%D1%80%D0%B0"
   ]
  },
  {
   "cell_type": "markdown",
   "metadata": {},
   "source": [
    "Вопросы игры от 21.01.2017 г.\n",
    "\n",
    "http://gameshows.ru/wiki/%D0%A1%D0%B2%D0%BE%D1%8F_%D0%B8%D0%B3%D1%80%D0%B0_(%D0%9E%D0%B1%D0%B7%D0%BE%D1%80_%D0%B2%D1%8B%D0%BF%D1%83%D1%81%D0%BA%D0%B0_2017-01-21)"
   ]
  },
  {
   "cell_type": "code",
   "execution_count": 1,
   "metadata": {},
   "outputs": [
    {
     "data": {
      "text/plain": [
       "True"
      ]
     },
     "execution_count": 1,
     "metadata": {},
     "output_type": "execute_result"
    }
   ],
   "source": [
    "# импорт библиотек\n",
    "import sqlite3\n",
    "import psycopg2\n",
    "import requests\n",
    "from requests_html import AsyncHTMLSession\n",
    "from bs4 import BeautifulSoup\n",
    "import os\n",
    "import requests\n",
    "import random\n",
    "import json\n",
    "from dotenv import load_dotenv\n",
    "load_dotenv()"
   ]
  },
  {
   "cell_type": "code",
   "execution_count": 2,
   "metadata": {},
   "outputs": [],
   "source": [
    "# переменные окружения\n",
    "TOKEN = os.environ.get(\"TOKEN\")\n",
    "GROUP_ID = os.environ.get(\"GROUP_ID\")"
   ]
  },
  {
   "cell_type": "code",
   "execution_count": 2,
   "metadata": {},
   "outputs": [],
   "source": [
    "# адрес страницы с вопросами игры\n",
    "url = \"http://gameshows.ru/wiki/%D0%A1%D0%B2%D0%BE%D1%8F_%D0%B8%D0%B3%D1%80%D0%B0_(%D0%9E%D0%B1%D0%B7%D0%BE%D1%80_%D0%B2%D1%8B%D0%BF%D1%83%D1%81%D0%BA%D0%B0_2017-01-21)\""
   ]
  },
  {
   "cell_type": "code",
   "execution_count": 3,
   "metadata": {},
   "outputs": [],
   "source": [
    "async def get_website(url: str) -> bytes:\n",
    "\n",
    "    \"\"\" функция получения содержания страницы\n",
    "    с вопросами игры\n",
    "\n",
    "    Args:\n",
    "        url (str): адрес страницы с вопросами игры\n",
    "\n",
    "    Returns:\n",
    "        bytes: содержание страницы\n",
    "    \"\"\"\n",
    "\n",
    "    asession = AsyncHTMLSession() \n",
    "\n",
    "    r = await asession.get(url)\n",
    "\n",
    "    await r.html.arender(sleep = 10) # sleeping is optional but do it just in case\n",
    "\n",
    "    html = r.html.raw_html # this can be returned as your result\n",
    "\n",
    "    await asession.close() # this part is important otherwise the Unwanted Kill.Chrome Error can Occur \n",
    "\n",
    "    return html"
   ]
  },
  {
   "cell_type": "code",
   "execution_count": 4,
   "metadata": {},
   "outputs": [],
   "source": [
    "# получение содержания страницы\n",
    "response = await get_website(url)"
   ]
  },
  {
   "cell_type": "code",
   "execution_count": 6,
   "metadata": {},
   "outputs": [],
   "source": [
    "# запись содержимого в файл\n",
    "with open(\"raw_data/questions_html.txt\", \"wb\") as f:\n",
    "        f.write(response)"
   ]
  },
  {
   "cell_type": "code",
   "execution_count": 5,
   "metadata": {},
   "outputs": [],
   "source": [
    "# считывание файла\n",
    "with open(\"raw_data/questions_html.txt\", \"rb\") as f:\n",
    "        response = f.read()"
   ]
  },
  {
   "cell_type": "code",
   "execution_count": 6,
   "metadata": {},
   "outputs": [],
   "source": [
    "# парсинг данных\n",
    "soup = BeautifulSoup(response, \"html.parser\")"
   ]
  },
  {
   "cell_type": "code",
   "execution_count": 8,
   "metadata": {},
   "outputs": [
    {
     "data": {
      "text/plain": [
       "'Семья композитора'"
      ]
     },
     "execution_count": 8,
     "metadata": {},
     "output_type": "execute_result"
    }
   ],
   "source": [
    "# тема вопроса\n",
    "soup.find_all(\"h4\")[0].text.split(\" (\")[0]"
   ]
  },
  {
   "cell_type": "code",
   "execution_count": 69,
   "metadata": {},
   "outputs": [
    {
     "data": {
      "text/plain": [
       "'300'"
      ]
     },
     "execution_count": 69,
     "metadata": {},
     "output_type": "execute_result"
    }
   ],
   "source": [
    "# количество очков (баллов)\n",
    "soup.find_all(\"h4\")[0].text.split(\" (\")[-1][:-1]"
   ]
  },
  {
   "cell_type": "code",
   "execution_count": 10,
   "metadata": {},
   "outputs": [
    {
     "data": {
      "text/plain": [
       "'На вопрос, как им удавалось сохранить семейное счастье, эти супруги отвечали: «Зная мы ответ, давно бы получили Нобелевскую премию по психологии».'"
      ]
     },
     "execution_count": 10,
     "metadata": {},
     "output_type": "execute_result"
    }
   ],
   "source": [
    "# вопрос\n",
    "soup.find(\"div\", {\"class\" : \"mw-content-ltr\"}).find_all(\"p\")[9].text.strip()"
   ]
  },
  {
   "cell_type": "code",
   "execution_count": 11,
   "metadata": {},
   "outputs": [
    {
     "data": {
      "text/plain": [
       "'Майя Плисецкая и Родион Щедрин'"
      ]
     },
     "execution_count": 11,
     "metadata": {},
     "output_type": "execute_result"
    }
   ],
   "source": [
    "# ответ\n",
    "soup.find(\"div\", {\"class\" : \"mw-content-ltr\"}).find_all(\"p\")[10].text.split(\":\")[-1].strip()"
   ]
  },
  {
   "cell_type": "code",
   "execution_count": 12,
   "metadata": {},
   "outputs": [
    {
     "data": {
      "text/plain": [
       "'В стихотворении «Разбойник» 1915 года он писал:\\n«Стухнут звёзды, стухнет месяц,\\nСтихнет песня соловья,\\nВ чернобылье перелесиц\\nС кистенём засяду я».'"
      ]
     },
     "execution_count": 12,
     "metadata": {},
     "output_type": "execute_result"
    }
   ],
   "source": [
    "# вопрос\n",
    "soup.find(\"div\", {\"class\" : \"mw-content-ltr\"}).find_all(\"p\")[11].text.strip()"
   ]
  },
  {
   "cell_type": "code",
   "execution_count": 13,
   "metadata": {},
   "outputs": [
    {
     "data": {
      "text/plain": [
       "'Сергей Александрович Есенин'"
      ]
     },
     "execution_count": 13,
     "metadata": {},
     "output_type": "execute_result"
    }
   ],
   "source": [
    "# ответ\n",
    "soup.find(\"div\", {\"class\" : \"mw-content-ltr\"}).find_all(\"p\")[12].text.split(\":\")[-1].strip()"
   ]
  },
  {
   "cell_type": "code",
   "execution_count": 88,
   "metadata": {},
   "outputs": [
    {
     "data": {
      "text/plain": [
       "'RU-SI-2017-01-21-5.jpg'"
      ]
     },
     "execution_count": 88,
     "metadata": {},
     "output_type": "execute_result"
    }
   ],
   "source": [
    "# наименования файла фото вопроса (http://gameshows.ru/w/images/c/cf/RU-SI-2017-01-21-1.jpg)\n",
    "soup.find_all(\"a\", {\"class\" : \"image\"})[5].get(\"href\").split(\":\")[-1]"
   ]
  },
  {
   "cell_type": "code",
   "execution_count": 78,
   "metadata": {},
   "outputs": [
    {
     "data": {
      "text/plain": [
       "'/w/images/thumb/e/e4/RU-SI-2017-01-21-7.jpg'"
      ]
     },
     "execution_count": 78,
     "metadata": {},
     "output_type": "execute_result"
    }
   ],
   "source": [
    "soup.find_all(\"img\", {\"class\" : \"thumbimage\"})[7].get(\"src\").split(\"/200px\")[0]"
   ]
  },
  {
   "cell_type": "code",
   "execution_count": 14,
   "metadata": {},
   "outputs": [
    {
     "data": {
      "text/plain": [
       "'Семья композитора'"
      ]
     },
     "execution_count": 14,
     "metadata": {},
     "output_type": "execute_result"
    }
   ],
   "source": [
    "# тема вопроса с фото\n",
    "soup.find_all(\"div\", {\"class\" : \"thumbcaption\"})[5].text.split(\" (\")[0]"
   ]
  },
  {
   "cell_type": "code",
   "execution_count": 16,
   "metadata": {},
   "outputs": [
    {
     "data": {
      "text/plain": [
       "'100'"
      ]
     },
     "execution_count": 16,
     "metadata": {},
     "output_type": "execute_result"
    }
   ],
   "source": [
    "# количество очков (баллов)\n",
    "soup.find_all(\"div\", {\"class\" : \"thumbcaption\"})[5].text.split(\" (\")[1][:-1]"
   ]
  },
  {
   "cell_type": "markdown",
   "metadata": {},
   "source": [
    "### Создание базы данных"
   ]
  },
  {
   "cell_type": "code",
   "execution_count": 3,
   "metadata": {},
   "outputs": [
    {
     "name": "stdout",
     "output_type": "stream",
     "text": [
      "База данных создана и успешно подключена к SQLite\n"
     ]
    }
   ],
   "source": [
    "# подключение к базе данных (в случае отсутствия база данных создается)\n",
    "connection_dev = sqlite3.connect(\"data/questions.db\")\n",
    "# создание объекта подключения\n",
    "cursor_dev = connection_dev.cursor()\n",
    "print(\"База данных создана и успешно подключена к SQLite\")"
   ]
  },
  {
   "cell_type": "code",
   "execution_count": 20,
   "metadata": {},
   "outputs": [],
   "source": [
    "# закрытие соединения с базой данных\n",
    "#connection.close()"
   ]
  },
  {
   "cell_type": "markdown",
   "metadata": {},
   "source": [
    "#### Создание таблицы \"Темы\"\n",
    "* theme_id - идентификатор темы\n",
    "* theme_title - название темы"
   ]
  },
  {
   "cell_type": "code",
   "execution_count": 21,
   "metadata": {},
   "outputs": [],
   "source": [
    "# создание таблицы themes\n",
    "cursor_dev.execute(\"\"\"CREATE TABLE IF NOT EXISTS themes(\n",
    "                  theme_id INTEGER PRIMARY KEY,\n",
    "                  theme_title TEXT UNIQUE NOT NULL);\"\"\")\n",
    "connection_dev.commit()"
   ]
  },
  {
   "cell_type": "markdown",
   "metadata": {},
   "source": [
    "#### Создание таблицы \"Впоросы\"\n",
    "* question_id - идентификатор вопроса\n",
    "* question_title - содержание вопроса\n",
    "* answer - ответ на вопрос\n",
    "* points - количество баллов (очков)\n",
    "* image_href - ссылка на фото вопроса\n",
    "* audio_href - ссылка на аудио вопроса\n",
    "* theme_id - идентифиатор темы"
   ]
  },
  {
   "cell_type": "code",
   "execution_count": 155,
   "metadata": {},
   "outputs": [],
   "source": [
    "# создание таблицы questions\n",
    "cursor_dev.execute(\"\"\"CREATE TABLE IF NOT EXISTS questions(\n",
    "                  question_id INTEGER PRIMARY KEY,\n",
    "                  question_title TEXT UNIQUE NOT NULL,\n",
    "                  answer TEXT NOT NULL,\n",
    "                  points INTEGER NOT NULL,\n",
    "                  image_href TEXT,\n",
    "                  audio_href TEXT,\n",
    "                  theme_id INTEGER NOT NULL);\"\"\")\n",
    "connection_dev.commit()"
   ]
  },
  {
   "cell_type": "code",
   "execution_count": 154,
   "metadata": {},
   "outputs": [],
   "source": [
    "# удаление таблицы\n",
    "# cursor_dev.execute(\"DROP TABLE questions\")\n",
    "# connection_dev.commit()"
   ]
  },
  {
   "cell_type": "code",
   "execution_count": 114,
   "metadata": {},
   "outputs": [
    {
     "data": {
      "text/plain": [
       "['Семья композитора',\n",
       " 'Книжные разбойники',\n",
       " 'Семья композитора',\n",
       " 'Семья композитора',\n",
       " 'Семья композитора',\n",
       " 'Меткий стрелок']"
      ]
     },
     "execution_count": 114,
     "metadata": {},
     "output_type": "execute_result"
    }
   ],
   "source": [
    "# темы\n",
    "themes = [theme.text.split(\" (\")[0] for theme in soup.find_all(\"h4\")[:-1] if theme.text.split(\" (\")[0] != \"Итог раунда\"]\n",
    "themes[:6]"
   ]
  },
  {
   "cell_type": "code",
   "execution_count": 115,
   "metadata": {},
   "outputs": [
    {
     "data": {
      "text/plain": [
       "90"
      ]
     },
     "execution_count": 115,
     "metadata": {},
     "output_type": "execute_result"
    }
   ],
   "source": [
    "# проверка данных\n",
    "len(themes) "
   ]
  },
  {
   "cell_type": "code",
   "execution_count": 116,
   "metadata": {},
   "outputs": [
    {
     "data": {
      "text/plain": [
       "['Книжные разбойники',\n",
       " 'Транспорт',\n",
       " 'Маленькие хищники',\n",
       " 'Параллели и меридианы',\n",
       " 'Станки',\n",
       " 'На помощь!',\n",
       " '…ура…',\n",
       " 'Чашка чая',\n",
       " 'Кинофразы',\n",
       " 'Зоопарки',\n",
       " 'Президенты',\n",
       " 'Меткий стрелок',\n",
       " 'Бароны',\n",
       " 'Вопросы от…',\n",
       " 'Ошибочка вышла',\n",
       " 'Калмыкия',\n",
       " 'Вот так номер!',\n",
       " 'Семья композитора']"
      ]
     },
     "execution_count": 116,
     "metadata": {},
     "output_type": "execute_result"
    }
   ],
   "source": [
    "# уникальные темы\n",
    "themes_unique = list(set(themes))\n",
    "themes_unique"
   ]
  },
  {
   "cell_type": "code",
   "execution_count": 117,
   "metadata": {},
   "outputs": [
    {
     "data": {
      "text/plain": [
       "[('Книжные разбойники',),\n",
       " ('Транспорт',),\n",
       " ('Маленькие хищники',),\n",
       " ('Параллели и меридианы',),\n",
       " ('Станки',),\n",
       " ('На помощь!',),\n",
       " ('…ура…',),\n",
       " ('Чашка чая',),\n",
       " ('Кинофразы',),\n",
       " ('Зоопарки',),\n",
       " ('Президенты',),\n",
       " ('Меткий стрелок',),\n",
       " ('Бароны',),\n",
       " ('Вопросы от…',),\n",
       " ('Ошибочка вышла',),\n",
       " ('Калмыкия',),\n",
       " ('Вот так номер!',),\n",
       " ('Семья композитора',)]"
      ]
     },
     "execution_count": 117,
     "metadata": {},
     "output_type": "execute_result"
    }
   ],
   "source": [
    "# преобразование для записи в базу данных\n",
    "themes_unique = [(theme, ) for theme in themes_unique]\n",
    "themes_unique"
   ]
  },
  {
   "cell_type": "code",
   "execution_count": 32,
   "metadata": {},
   "outputs": [],
   "source": [
    "# запись в базу данных\n",
    "cursor_dev.executemany(\"\"\"INSERT INTO themes (theme_title)\n",
    "                      VALUES(?);\"\"\", themes_unique) \n",
    "connection_dev.commit()"
   ]
  },
  {
   "cell_type": "code",
   "execution_count": 33,
   "metadata": {},
   "outputs": [
    {
     "data": {
      "text/plain": [
       "(18, 18)"
      ]
     },
     "execution_count": 33,
     "metadata": {},
     "output_type": "execute_result"
    }
   ],
   "source": [
    "# проверка внесения записи\n",
    "cursor_dev.execute(\"\"\"SELECT COUNT(*)\n",
    "                  FROM themes;\"\"\")\n",
    "cursor_dev.fetchone()[0], len(themes_unique)"
   ]
  },
  {
   "cell_type": "markdown",
   "metadata": {},
   "source": [
    "Данные записаны **успешно**"
   ]
  },
  {
   "cell_type": "code",
   "execution_count": 110,
   "metadata": {},
   "outputs": [],
   "source": [
    "# получение id наименования темы\n",
    "def select_theme_id(theme_title: str) -> int:\n",
    "\n",
    "    \"\"\" функция получения идентификатора темы\n",
    "    по ее наименованию\n",
    "\n",
    "    Args:\n",
    "        theme_title (str): наименование темы\n",
    "\n",
    "    Returns:\n",
    "        int: идентификатор темы\n",
    "    \"\"\"\n",
    "    try:\n",
    "        cursor_dev.execute(\"\"\"SELECT theme_id\n",
    "                                FROM themes\n",
    "                                WHERE theme_title == ?;\"\"\", (theme_title,))\n",
    "    \n",
    "        return cursor_dev.fetchone()[0]\n",
    "    except:\n",
    "        print(f\"Такой темы нет: {theme_title}\")"
   ]
  },
  {
   "cell_type": "code",
   "execution_count": 156,
   "metadata": {},
   "outputs": [
    {
     "data": {
      "text/plain": [
       "18"
      ]
     },
     "execution_count": 156,
     "metadata": {},
     "output_type": "execute_result"
    }
   ],
   "source": [
    "# тест функции select_theme_id\n",
    "select_theme_id(\"Калмыкия\")"
   ]
  },
  {
   "cell_type": "code",
   "execution_count": 157,
   "metadata": {},
   "outputs": [
    {
     "data": {
      "text/plain": [
       "[300, 300, 500, 400, 200, 300]"
      ]
     },
     "execution_count": 157,
     "metadata": {},
     "output_type": "execute_result"
    }
   ],
   "source": [
    "# количество очков (баллов)\n",
    "points = [int(point.text.split(\" (\")[-1][:-1].replace(\" \", \"\")) for point in soup.find_all(\"h4\")[:-1] if point.text.split(\" (\")[-1][:-1] != \"Итог раунд\"]\n",
    "points[:6]"
   ]
  },
  {
   "cell_type": "code",
   "execution_count": 158,
   "metadata": {},
   "outputs": [
    {
     "data": {
      "text/plain": [
       "90"
      ]
     },
     "execution_count": 158,
     "metadata": {},
     "output_type": "execute_result"
    }
   ],
   "source": [
    "# проверка данных\n",
    "len(points)"
   ]
  },
  {
   "cell_type": "code",
   "execution_count": 159,
   "metadata": {},
   "outputs": [
    {
     "data": {
      "text/plain": [
       "['На вопрос, как им удавалось сохранить семейное счастье, эти супруги отвечали: «Зная мы ответ, давно бы получили Нобелевскую премию по психологии».',\n",
       " 'В стихотворении «Разбойник» 1915 года он писал:\\r\\n«Стухнут звёзды, стухнет месяц,\\r\\nСтихнет песня соловья,\\r\\nВ чернобылье перелесиц\\r\\nС кистенём засяду я».',\n",
       " 'Работая над «Парсифалем», он, по его словам, не мог сочинить ни ноты, если рядом не было жены Козимы. На день рождения супруги он нанял оркестр, исполнивший прелюдию к «Парсифалю».',\n",
       " 'Фридрих Вик долго не давал согласия на брак дочери, но по решению суда Клара стала именно его женой и родила ему 8 детей. С отцом помирились года через три.',\n",
       " 'После поездки в США и Канаду снайпер Людмила Павличенко служила инструктором на курсах комсостава, носивших это говорящее название.',\n",
       " 'Вопрос-аукцион. Мексиканка Мельба Приа ездит по Дели на трёхколёсном мотороллере; и пробки не страшны и выхлоп невелик. Этот высокий пост даму не смущает.']"
      ]
     },
     "execution_count": 159,
     "metadata": {},
     "output_type": "execute_result"
    }
   ],
   "source": [
    "# вопросы\n",
    "question_titles = [title.text.strip() for title in  soup.find(\"div\", {\"class\" : \"mw-content-ltr\"}).find_all(\"p\")[9:-7] if \"Правильный ответ\"  not in title.text and \"Темы:\" not in title.text]\n",
    "question_titles[:6]"
   ]
  },
  {
   "cell_type": "code",
   "execution_count": 160,
   "metadata": {},
   "outputs": [],
   "source": [
    "question_titles.insert(2, \"Его брак с Марии-Анне Келлер не принёс счастья ни одному из супругов. Детей у них не было, а партитуры использовались на папильотки и подставки для паштета.\")"
   ]
  },
  {
   "cell_type": "code",
   "execution_count": 161,
   "metadata": {},
   "outputs": [],
   "source": [
    "question_titles.insert(10, \"Национальный большой театр в Пекине поставил эту оперу. Композитор Хао Вэй написал 18-минутное продолжение, добавив к персонажам принцессу Лоу-Линь и китайского Ангела.\")"
   ]
  },
  {
   "cell_type": "code",
   "execution_count": 162,
   "metadata": {},
   "outputs": [
    {
     "data": {
      "text/plain": [
       "90"
      ]
     },
     "execution_count": 162,
     "metadata": {},
     "output_type": "execute_result"
    }
   ],
   "source": [
    "# проверка данных\n",
    "len(question_titles)"
   ]
  },
  {
   "cell_type": "code",
   "execution_count": 163,
   "metadata": {},
   "outputs": [
    {
     "data": {
      "text/plain": [
       "['Майя Плисецкая и Родион Щедрин',\n",
       " 'Сергей Александрович Есенин',\n",
       " 'Рихард Вагнер',\n",
       " 'Роберт Шуман',\n",
       " '«Выстрел»',\n",
       " 'Посол Мексики в Индии']"
      ]
     },
     "execution_count": 163,
     "metadata": {},
     "output_type": "execute_result"
    }
   ],
   "source": [
    "# ответ\n",
    "answers = [answer.text.split(\":\")[-1].strip() for answer in soup.find(\"div\", {\"class\" : \"mw-content-ltr\"}).find_all(\"p\")[9:-3] if \"Правильный ответ\" in answer.text]\n",
    "answers[:6]"
   ]
  },
  {
   "cell_type": "code",
   "execution_count": 164,
   "metadata": {},
   "outputs": [],
   "source": [
    "answers.insert(2, \"Йозеф Гайдн\")"
   ]
  },
  {
   "cell_type": "code",
   "execution_count": 165,
   "metadata": {},
   "outputs": [],
   "source": [
    "answers.insert(10, \"Турандот\")"
   ]
  },
  {
   "cell_type": "code",
   "execution_count": 166,
   "metadata": {},
   "outputs": [
    {
     "data": {
      "text/plain": [
       "90"
      ]
     },
     "execution_count": 166,
     "metadata": {},
     "output_type": "execute_result"
    }
   ],
   "source": [
    "# проверка данных\n",
    "len(answers)"
   ]
  },
  {
   "cell_type": "code",
   "execution_count": 167,
   "metadata": {},
   "outputs": [
    {
     "data": {
      "text/plain": [
       "[('На вопрос, как им удавалось сохранить семейное счастье, эти супруги отвечали: «Зная мы ответ, давно бы получили Нобелевскую премию по психологии».',\n",
       "  'Майя Плисецкая и Родион Щедрин',\n",
       "  300,\n",
       "  'Семья композитора'),\n",
       " ('В стихотворении «Разбойник» 1915 года он писал:\\r\\n«Стухнут звёзды, стухнет месяц,\\r\\nСтихнет песня соловья,\\r\\nВ чернобылье перелесиц\\r\\nС кистенём засяду я».',\n",
       "  'Сергей Александрович Есенин',\n",
       "  300,\n",
       "  'Книжные разбойники'),\n",
       " ('Его брак с Марии-Анне Келлер не принёс счастья ни одному из супругов. Детей у них не было, а партитуры использовались на папильотки и подставки для паштета.',\n",
       "  'Йозеф Гайдн',\n",
       "  500,\n",
       "  'Семья композитора'),\n",
       " ('Работая над «Парсифалем», он, по его словам, не мог сочинить ни ноты, если рядом не было жены Козимы. На день рождения супруги он нанял оркестр, исполнивший прелюдию к «Парсифалю».',\n",
       "  'Рихард Вагнер',\n",
       "  400,\n",
       "  'Семья композитора')]"
      ]
     },
     "execution_count": 167,
     "metadata": {},
     "output_type": "execute_result"
    }
   ],
   "source": [
    "# преобразование для записи в базу данных\n",
    "questions = []\n",
    "for i in range(90):\n",
    "    questions.append((question_titles[i], answers[i], points[i], themes[i]))\n",
    "questions[:4]"
   ]
  },
  {
   "cell_type": "code",
   "execution_count": 168,
   "metadata": {},
   "outputs": [],
   "source": [
    "# запись в базу данных\n",
    "def insetr_questions(question_title: str, answer: str, points: int, theme_title: str) -> None:\n",
    "\n",
    "    \"\"\" функция записи содержания вопроса  в базу данны\n",
    "    Args:\n",
    "        question_title (str): содержание вопроса\n",
    "        answers (str): ответ на вопрос\n",
    "        point (int): количество баллов (очков)\n",
    "        theme_title (str): наименование темы\n",
    "    \"\"\"\n",
    "\n",
    "    theme_id = select_theme_id(theme_title)\n",
    "\n",
    "    cursor_dev.execute(\"\"\"INSERT INTO questions\n",
    "                    (question_title, answer, points, theme_id)\n",
    "                    VALUES(?, ?, ?, ?);\"\"\", (question_title, answer, points, theme_id,)) \n",
    "    connection_dev.commit()"
   ]
  },
  {
   "cell_type": "code",
   "execution_count": 169,
   "metadata": {},
   "outputs": [],
   "source": [
    "# запись в базу данных\n",
    "for question_title, answer, points, theme_title in questions:\n",
    "    insetr_questions(question_title, answer, points, theme_title)   "
   ]
  },
  {
   "cell_type": "code",
   "execution_count": 170,
   "metadata": {},
   "outputs": [
    {
     "data": {
      "text/plain": [
       "(90, 90)"
      ]
     },
     "execution_count": 170,
     "metadata": {},
     "output_type": "execute_result"
    }
   ],
   "source": [
    "# проверка внесения записи\n",
    "cursor_dev.execute(\"\"\"SELECT COUNT(*)\n",
    "                  FROM questions;\"\"\")\n",
    "cursor_dev.fetchone()[0], len(questions)"
   ]
  },
  {
   "cell_type": "code",
   "execution_count": 171,
   "metadata": {},
   "outputs": [
    {
     "data": {
      "text/plain": [
       "[(1,\n",
       "  'На вопрос, как им удавалось сохранить семейное счастье, эти супруги отвечали: «Зная мы ответ, давно бы получили Нобелевскую премию по психологии».',\n",
       "  'Майя Плисецкая и Родион Щедрин',\n",
       "  300,\n",
       "  None,\n",
       "  None,\n",
       "  14),\n",
       " (2,\n",
       "  'В стихотворении «Разбойник» 1915 года он писал:\\r\\n«Стухнут звёзды, стухнет месяц,\\r\\nСтихнет песня соловья,\\r\\nВ чернобылье перелесиц\\r\\nС кистенём засяду я».',\n",
       "  'Сергей Александрович Есенин',\n",
       "  300,\n",
       "  None,\n",
       "  None,\n",
       "  5),\n",
       " (3,\n",
       "  'Его брак с Марии-Анне Келлер не принёс счастья ни одному из супругов. Детей у них не было, а партитуры использовались на папильотки и подставки для паштета.',\n",
       "  'Йозеф Гайдн',\n",
       "  500,\n",
       "  None,\n",
       "  None,\n",
       "  14),\n",
       " (4,\n",
       "  'Работая над «Парсифалем», он, по его словам, не мог сочинить ни ноты, если рядом не было жены Козимы. На день рождения супруги он нанял оркестр, исполнивший прелюдию к «Парсифалю».',\n",
       "  'Рихард Вагнер',\n",
       "  400,\n",
       "  None,\n",
       "  None,\n",
       "  14),\n",
       " (5,\n",
       "  'Фридрих Вик долго не давал согласия на брак дочери, но по решению суда Клара стала именно его женой и родила ему 8 детей. С отцом помирились года через три.',\n",
       "  'Роберт Шуман',\n",
       "  200,\n",
       "  None,\n",
       "  None,\n",
       "  14),\n",
       " (6,\n",
       "  'После поездки в США и Канаду снайпер Людмила Павличенко служила инструктором на курсах комсостава, носивших это говорящее название.',\n",
       "  '«Выстрел»',\n",
       "  300,\n",
       "  None,\n",
       "  None,\n",
       "  16),\n",
       " (7,\n",
       "  'Вопрос-аукцион. Мексиканка Мельба Приа ездит по Дели на трёхколёсном мотороллере; и пробки не страшны и выхлоп невелик. Этот высокий пост даму не смущает.',\n",
       "  'Посол Мексики в Индии',\n",
       "  300,\n",
       "  None,\n",
       "  None,\n",
       "  7),\n",
       " (8,\n",
       "  'Исследуя советскую политическую систему, историк и социолог Михаил Восленский оценивал именно её численность в три миллиона человек.',\n",
       "  'Номенклатура',\n",
       "  300,\n",
       "  None,\n",
       "  None,\n",
       "  8),\n",
       " (9,\n",
       "  'Парк дикой природы он основал 26 марта 1959 года в поместье Огр прихода Тринити как Джерсийский зоопарк, ныне носящий его имя.',\n",
       "  'Джеральд Дарелл',\n",
       "  300,\n",
       "  None,\n",
       "  None,\n",
       "  1),\n",
       " (10,\n",
       "  'Популярнейшая открытка прошлого века изображала Моцарта и его жену Констанцию в этот счастливый период их жизни.',\n",
       "  'Медовый месяц',\n",
       "  100,\n",
       "  None,\n",
       "  None,\n",
       "  14)]"
      ]
     },
     "execution_count": 171,
     "metadata": {},
     "output_type": "execute_result"
    }
   ],
   "source": [
    "# проверка внесения записи\n",
    "cursor_dev.execute(\"\"\"SELECT *\n",
    "                  FROM questions\n",
    "                  LIMIT 10;\"\"\")\n",
    "cursor_dev.fetchall()"
   ]
  },
  {
   "cell_type": "markdown",
   "metadata": {},
   "source": [
    "Данные записаны **успешно**"
   ]
  },
  {
   "cell_type": "code",
   "execution_count": 172,
   "metadata": {},
   "outputs": [
    {
     "data": {
      "text/plain": [
       "['/w/images/thumb/f/f9/RU-SI-2017-01-21-4.jpg',\n",
       " '/w/images/thumb/7/76/RU-SI-2017-01-21-5.jpg',\n",
       " '/w/images/thumb/6/62/RU-SI-2017-01-21-6.jpg',\n",
       " '/w/images/thumb/e/e4/RU-SI-2017-01-21-7.jpg',\n",
       " '/w/images/thumb/6/60/RU-SI-2017-01-21-8.jpg',\n",
       " '/w/images/thumb/5/57/RU-SI-2017-01-21-9.jpg']"
      ]
     },
     "execution_count": 172,
     "metadata": {},
     "output_type": "execute_result"
    }
   ],
   "source": [
    "# наименования файла фото вопроса \n",
    "image_hrefs = [image_href.get(\"src\").split(\"/200px\")[0] for image_href in soup.find_all(\"img\", {\"class\" : \"thumbimage\"})[4:-1]]\n",
    "image_hrefs[:6]"
   ]
  },
  {
   "cell_type": "code",
   "execution_count": 173,
   "metadata": {},
   "outputs": [
    {
     "data": {
      "text/plain": [
       "21"
      ]
     },
     "execution_count": 173,
     "metadata": {},
     "output_type": "execute_result"
    }
   ],
   "source": [
    "# проверка данных\n",
    "len(image_hrefs)"
   ]
  },
  {
   "cell_type": "code",
   "execution_count": 174,
   "metadata": {},
   "outputs": [
    {
     "data": {
      "text/plain": [
       "['Семья композитора',\n",
       " 'Семья композитора',\n",
       " 'Констанция Вебер',\n",
       " 'Дом Моцарта в Вене',\n",
       " 'Вокруг футбола',\n",
       " 'Друзья']"
      ]
     },
     "execution_count": 174,
     "metadata": {},
     "output_type": "execute_result"
    }
   ],
   "source": [
    "# тема вопроса с фото\n",
    "theme_title_images = [theme_title_image.text.split(\" (\")[0] if \"Марина Сучкова\" not in theme_title_image.text else \"Вопросы от…\" \\\n",
    "    for theme_title_image in soup.find_all(\"div\", {\"class\" : \"thumbcaption\"})[4:-1]]\n",
    "theme_title_images[:6]"
   ]
  },
  {
   "cell_type": "code",
   "execution_count": 175,
   "metadata": {},
   "outputs": [
    {
     "data": {
      "text/plain": [
       "21"
      ]
     },
     "execution_count": 175,
     "metadata": {},
     "output_type": "execute_result"
    }
   ],
   "source": [
    "# проверка данных\n",
    "len(theme_title_images)"
   ]
  },
  {
   "cell_type": "code",
   "execution_count": 176,
   "metadata": {},
   "outputs": [],
   "source": [
    "theme_title_images[4] = \"Транспорт\""
   ]
  },
  {
   "cell_type": "code",
   "execution_count": 177,
   "metadata": {},
   "outputs": [],
   "source": [
    "theme_title_images[5] = \"Книжные разбойники\""
   ]
  },
  {
   "cell_type": "code",
   "execution_count": 178,
   "metadata": {},
   "outputs": [],
   "source": [
    "theme_title_images[8] = \"Президенты\""
   ]
  },
  {
   "cell_type": "code",
   "execution_count": 179,
   "metadata": {},
   "outputs": [],
   "source": [
    "theme_title_images[19] = \"Вот так номер!\""
   ]
  },
  {
   "cell_type": "code",
   "execution_count": 180,
   "metadata": {},
   "outputs": [],
   "source": [
    "theme_title_images[20] = \"Калмыкия\""
   ]
  },
  {
   "cell_type": "code",
   "execution_count": 181,
   "metadata": {},
   "outputs": [
    {
     "data": {
      "text/plain": [
       "[300, 100, 100, 100, 100]"
      ]
     },
     "execution_count": 181,
     "metadata": {},
     "output_type": "execute_result"
    }
   ],
   "source": [
    "# количество очков (баллов) вопроса с фото\n",
    "points_images = []\n",
    "for points_image in soup.find_all(\"div\", {\"class\" : \"thumbcaption\"})[4:-1]:\n",
    "    if \"Марина Сучкова\" in points_image.text:\n",
    "        points_images.append(200)\n",
    "    elif \"(\" not in points_image.text:\n",
    "        points_images.append(100)\n",
    "    else:\n",
    "        points_images.append(int(points_image.text.split(\" (\")[1][:-1].replace(\" \", \"\")))\n",
    "    \n",
    "    [points_image.text for points_image in soup.find_all(\"div\", {\"class\" : \"thumbcaption\"})[4:-1] if \"Марина Сучкова\" ]\n",
    "points_images[:5]"
   ]
  },
  {
   "cell_type": "code",
   "execution_count": 182,
   "metadata": {},
   "outputs": [
    {
     "data": {
      "text/plain": [
       "21"
      ]
     },
     "execution_count": 182,
     "metadata": {},
     "output_type": "execute_result"
    }
   ],
   "source": [
    "# проверка данных\n",
    "len(points_images)"
   ]
  },
  {
   "cell_type": "code",
   "execution_count": 183,
   "metadata": {},
   "outputs": [
    {
     "data": {
      "text/plain": [
       "[('/w/images/f/f9/RU-SI-2017-01-21-4.jpg', 'Семья композитора', 300),\n",
       " ('/w/images/7/76/RU-SI-2017-01-21-5.jpg', 'Семья композитора', 100),\n",
       " ('/w/images/6/62/RU-SI-2017-01-21-6.jpg', 'Констанция Вебер', 100),\n",
       " ('/w/images/e/e4/RU-SI-2017-01-21-7.jpg', 'Дом Моцарта в Вене', 100)]"
      ]
     },
     "execution_count": 183,
     "metadata": {},
     "output_type": "execute_result"
    }
   ],
   "source": [
    "# преобразование для записи в базу данных\n",
    "images = []\n",
    "for i in range(21):\n",
    "    images.append((image_hrefs[i].replace(\"thumb/\", \"\"), theme_title_images[i], points_images[i]))\n",
    "images[:4]"
   ]
  },
  {
   "cell_type": "code",
   "execution_count": 184,
   "metadata": {},
   "outputs": [
    {
     "data": {
      "text/plain": [
       "21"
      ]
     },
     "execution_count": 184,
     "metadata": {},
     "output_type": "execute_result"
    }
   ],
   "source": [
    "len(images)"
   ]
  },
  {
   "cell_type": "code",
   "execution_count": 185,
   "metadata": {},
   "outputs": [
    {
     "data": {
      "text/plain": [
       "[('/w/images/f/f9/RU-SI-2017-01-21-4.jpg', 'Семья композитора', 300),\n",
       " ('/w/images/7/76/RU-SI-2017-01-21-5.jpg', 'Семья композитора', 100),\n",
       " ('/w/images/6/62/RU-SI-2017-01-21-6.jpg', 'Констанция Вебер', 100),\n",
       " ('/w/images/e/e4/RU-SI-2017-01-21-7.jpg', 'Дом Моцарта в Вене', 100),\n",
       " ('/w/images/6/60/RU-SI-2017-01-21-8.jpg', 'Транспорт', 100),\n",
       " ('/w/images/5/57/RU-SI-2017-01-21-9.jpg', 'Книжные разбойники', 500),\n",
       " ('/w/images/8/8d/RU-SI-2017-01-21-10.jpg', 'Транспорт', 400),\n",
       " ('/w/images/4/43/RU-SI-2017-01-21-11.jpg', 'Вопросы от…', 200),\n",
       " ('/w/images/b/bc/RU-SI-2017-01-21-12.jpg', 'Президенты', 1000),\n",
       " ('/w/images/7/7f/RU-SI-2017-01-21-13.jpg', 'Президенты', 400),\n",
       " ('/w/images/2/22/RU-SI-2017-01-21-14.jpg', 'Вопросы от…', 800),\n",
       " ('/w/images/f/fa/RU-SI-2017-01-21-15.jpg', 'Вопросы от…', 1000),\n",
       " ('/w/images/1/1b/RU-SI-2017-01-21-16.jpg', 'Ошибочка вышла', 1000),\n",
       " ('/w/images/1/19/RU-SI-2017-01-21-17.jpg', 'Ошибочка вышла', 1000),\n",
       " ('/w/images/1/10/RU-SI-2017-01-21-18.jpg', 'Ошибочка вышла', 1000),\n",
       " ('/w/images/f/fb/RU-SI-2017-01-21-19.jpg', 'Ошибочка вышла', 600),\n",
       " ('/w/images/7/73/RU-SI-2017-01-21-20.jpg', 'Чашка чая', 1000),\n",
       " ('/w/images/4/48/RU-SI-2017-01-21-21.jpg', 'Вот так номер!', 1200),\n",
       " ('/w/images/e/ed/RU-SI-2017-01-21-22.jpg', 'Маленькие хищники', 600),\n",
       " ('/w/images/5/5c/RU-SI-2017-01-21-23.jpg', 'Вот так номер!', 1500),\n",
       " ('/w/images/9/98/RU-SI-2017-01-21-24.jpg', 'Калмыкия', 300)]"
      ]
     },
     "execution_count": 185,
     "metadata": {},
     "output_type": "execute_result"
    }
   ],
   "source": [
    "images"
   ]
  },
  {
   "cell_type": "code",
   "execution_count": 143,
   "metadata": {},
   "outputs": [],
   "source": [
    "# сохранение файла\n",
    "def get_image(image_href: str) -> None:\n",
    "\n",
    "    \"\"\"функция сохранения фото вопроса\n",
    "\n",
    "    Args:\n",
    "        image_href (str): наименования файла фото вопроса \n",
    "    \"\"\"\n",
    "\n",
    "    url = \"http://gameshows.ru\"\n",
    "    r = requests.get(url + image_href)\n",
    "    image_href = image_href.split(\"/\")[-1]\n",
    "    # запись содержимого в файл\n",
    "    with open(f\"content/images/{image_href}\", 'wb') as f:\n",
    "        f.write(r.content)\n"
   ]
  },
  {
   "cell_type": "code",
   "execution_count": 186,
   "metadata": {},
   "outputs": [],
   "source": [
    "# запись в базу данных\n",
    "def update_images_questions(image_href: str, theme_title: str, points: int) -> None:\n",
    "\n",
    "    \"\"\"функция записи фото вопроса в базу данны\n",
    "\n",
    "    Args:\n",
    "        image_href (str): наименования файла фото вопроса\n",
    "        theme_title (str): наименование темы\n",
    "        points (int): количество баллов (очков)\n",
    "    \"\"\"\n",
    "    get_image(image_href)\n",
    "\n",
    "    theme_id = select_theme_id(theme_title)\n",
    "    cursor_dev.execute(\"\"\"UPDATE questions\n",
    "                        SET image_href = ?\n",
    "                        WHERE theme_id = ? AND points = ?;\"\"\",\n",
    "                        (image_href, theme_id, points,)) \n",
    "    connection_dev.commit()"
   ]
  },
  {
   "cell_type": "code",
   "execution_count": 187,
   "metadata": {},
   "outputs": [
    {
     "name": "stdout",
     "output_type": "stream",
     "text": [
      "Такой темы нет: Констанция Вебер\n",
      "Такой темы нет: Дом Моцарта в Вене\n"
     ]
    }
   ],
   "source": [
    "# запись в базу данных\n",
    "for image_href, theme_title, points in images:\n",
    "    update_images_questions(image_href, theme_title, points)"
   ]
  },
  {
   "cell_type": "code",
   "execution_count": 188,
   "metadata": {},
   "outputs": [
    {
     "data": {
      "text/plain": [
       "[(17,)]"
      ]
     },
     "execution_count": 188,
     "metadata": {},
     "output_type": "execute_result"
    }
   ],
   "source": [
    "# проверка внесения записи\n",
    "cursor_dev.execute(\"\"\"SELECT COUNT(*)\n",
    "                  FROM questions\n",
    "                  WHERE image_href NOT NULL;\"\"\")\n",
    "cursor_dev.fetchall()"
   ]
  },
  {
   "cell_type": "code",
   "execution_count": 189,
   "metadata": {},
   "outputs": [
    {
     "data": {
      "text/plain": [
       "[<span class=\"dewWrapper\"> <object data=\"/w/extensions/Mp3Handler/dewplayer.swf?mp3=/w/images/c/c2/RU-SI-2017-01-21-1.mp3&amp;showtime=1\" height=\"21\" style=\"vertical-align: top;\" type=\"application/x-shockwave-flash\" width=\"197\"> <param name=\"wmode\" value=\"transparent\"/> <param name=\"movie\" value=\"/w/extensions/Mp3Handler/dewplayer.swf?mp3=/w/images/c/c2/RU-SI-2017-01-21-1.mp3&amp;showtime=1\"/> </object> <a href=\"/w/images/c/c2/RU-SI-2017-01-21-1.mp3\" title=\"Download\"> <img alt=\"Download\" src=\"/w/extensions/Mp3Handler/download.png\" style=\"vertical-align: top; margin-left: 0pt; margin-top: 2px;\"/> </a> </span>,\n",
       " <span class=\"dewWrapper\"> <object data=\"/w/extensions/Mp3Handler/dewplayer.swf?mp3=/w/images/a/ad/RU-SI-2017-01-21-2.mp3&amp;showtime=1\" height=\"21\" style=\"vertical-align: top;\" type=\"application/x-shockwave-flash\" width=\"197\"> <param name=\"wmode\" value=\"transparent\"/> <param name=\"movie\" value=\"/w/extensions/Mp3Handler/dewplayer.swf?mp3=/w/images/a/ad/RU-SI-2017-01-21-2.mp3&amp;showtime=1\"/> </object> <a href=\"/w/images/a/ad/RU-SI-2017-01-21-2.mp3\" title=\"Download\"> <img alt=\"Download\" src=\"/w/extensions/Mp3Handler/download.png\" style=\"vertical-align: top; margin-left: 0pt; margin-top: 2px;\"/> </a> </span>]"
      ]
     },
     "execution_count": 189,
     "metadata": {},
     "output_type": "execute_result"
    }
   ],
   "source": [
    "# ссылки на аудио-файл\n",
    "# http://gameshows.ru/w/images/a/ad/RU-SI-2017-01-21-2.mp3\n",
    "audio_hrefs = soup.find_all(\"span\", {\"class\" : \"dewWrapper\"})\n",
    "audio_hrefs"
   ]
  },
  {
   "cell_type": "code",
   "execution_count": 190,
   "metadata": {},
   "outputs": [
    {
     "data": {
      "text/plain": [
       "'/w/images/c/c2/RU-SI-2017-01-21-1.mp3'"
      ]
     },
     "execution_count": 190,
     "metadata": {},
     "output_type": "execute_result"
    }
   ],
   "source": [
    "# наименование файла\n",
    "audio_hrefs[0].find(\"object\").get(\"data\").split(\"mp3=\")[-1].replace(\"&showtime=1\", \"\")"
   ]
  },
  {
   "cell_type": "code",
   "execution_count": 191,
   "metadata": {},
   "outputs": [
    {
     "data": {
      "text/plain": [
       "['/w/images/c/c2/RU-SI-2017-01-21-1.mp3',\n",
       " '/w/images/a/ad/RU-SI-2017-01-21-2.mp3']"
      ]
     },
     "execution_count": 191,
     "metadata": {},
     "output_type": "execute_result"
    }
   ],
   "source": [
    "# наименование файла\n",
    "audio_hrefs = [audio_href.find(\"object\").get(\"data\").split(\"mp3=\")[-1].replace(\"&showtime=1\", \"\") for audio_href in audio_hrefs]\n",
    "audio_hrefs"
   ]
  },
  {
   "cell_type": "code",
   "execution_count": 162,
   "metadata": {},
   "outputs": [],
   "source": [
    "# сохранение файла\n",
    "def get_audio(audio_href: str) -> None:\n",
    "\n",
    "    \"\"\"функция сохранения айдио вопроса\n",
    "\n",
    "    Args:\n",
    "        audio_href (str): наименования файла аудио вопроса \n",
    "    \"\"\"\n",
    "\n",
    "    url = \"http://gameshows.ru\"\n",
    "    r = requests.get(url + audio_href)\n",
    "    audio_href = audio_href.split(\"/\")[-1]\n",
    "    # запись содержимого в файл\n",
    "    with open(f\"content/audios/{audio_href}\", 'wb') as f:\n",
    "        f.write(r.content)"
   ]
  },
  {
   "cell_type": "code",
   "execution_count": 193,
   "metadata": {},
   "outputs": [],
   "source": [
    "# запись в базу данных\n",
    "def update_audio_questions(audio_href: str, theme_title: str, points: int) -> None:\n",
    "\n",
    "    \"\"\"функция записи аудио вопроса в базу данны\n",
    "\n",
    "    Args:\n",
    "        audio_href (str): наименования файла аудио вопроса\n",
    "        theme_title (str): наименование темы\n",
    "        points (int): количество баллов (очков)\n",
    "    \"\"\"\n",
    "    # get_audio(audio_href)\n",
    "\n",
    "    try:\n",
    "        theme_id = select_theme_id(theme_title)\n",
    "        cursor_dev.execute(\"\"\"UPDATE questions\n",
    "                        SET audio_href = ?\n",
    "                        WHERE theme_id = ? AND points = ?;\"\"\",\n",
    "                        (audio_href, theme_id, points,)) \n",
    "        connection_dev.commit()\n",
    "    except:\n",
    "        pass"
   ]
  },
  {
   "cell_type": "code",
   "execution_count": 194,
   "metadata": {},
   "outputs": [],
   "source": [
    "theme_title_audio = [\"Семья композитора\", \"…ура…\"]\n",
    "points_audio = [500, 400]"
   ]
  },
  {
   "cell_type": "code",
   "execution_count": 195,
   "metadata": {},
   "outputs": [
    {
     "data": {
      "text/plain": [
       "[('/w/images/c/c2/RU-SI-2017-01-21-1.mp3', 'Семья композитора', 500),\n",
       " ('/w/images/a/ad/RU-SI-2017-01-21-2.mp3', '…ура…', 400)]"
      ]
     },
     "execution_count": 195,
     "metadata": {},
     "output_type": "execute_result"
    }
   ],
   "source": [
    "# преобразование для записи в базу данных\n",
    "audios = []\n",
    "for i in range(2):\n",
    "    audios.append((audio_hrefs[i], theme_title_audio[i], points_audio[i]))\n",
    "audios[:4]"
   ]
  },
  {
   "cell_type": "code",
   "execution_count": 196,
   "metadata": {},
   "outputs": [],
   "source": [
    "# запись в базу данных\n",
    "for audio_href, theme_title, points in audios:\n",
    "    update_audio_questions(audio_href, theme_title, points)"
   ]
  },
  {
   "cell_type": "code",
   "execution_count": 197,
   "metadata": {},
   "outputs": [
    {
     "data": {
      "text/plain": [
       "[(3,\n",
       "  'Его брак с Марии-Анне Келлер не принёс счастья ни одному из супругов. Детей у них не было, а партитуры использовались на папильотки и подставки для паштета.',\n",
       "  'Йозеф Гайдн',\n",
       "  500,\n",
       "  None,\n",
       "  '/w/images/c/c2/RU-SI-2017-01-21-1.mp3',\n",
       "  14),\n",
       " (11,\n",
       "  'Национальный большой театр в Пекине поставил эту оперу. Композитор Хао Вэй написал 18-минутное продолжение, добавив к персонажам принцессу Лоу-Линь и китайского Ангела.',\n",
       "  'Турандот',\n",
       "  400,\n",
       "  None,\n",
       "  '/w/images/a/ad/RU-SI-2017-01-21-2.mp3',\n",
       "  8)]"
      ]
     },
     "execution_count": 197,
     "metadata": {},
     "output_type": "execute_result"
    }
   ],
   "source": [
    "# проверка внесения записи\n",
    "cursor_dev.execute(\"\"\"SELECT *\n",
    "                  FROM questions\n",
    "                  WHERE audio_href NOT NULL\n",
    "                  LIMIT 5;\"\"\")\n",
    "cursor_dev.fetchall()"
   ]
  },
  {
   "cell_type": "code",
   "execution_count": 198,
   "metadata": {},
   "outputs": [
    {
     "data": {
      "text/plain": [
       "[('themes',), ('questions',)]"
      ]
     },
     "execution_count": 198,
     "metadata": {},
     "output_type": "execute_result"
    }
   ],
   "source": [
    "# вывод наименования таблиц в базе данных\n",
    "cursor_dev.execute(\"\"\"SELECT name\n",
    "                  FROM sqlite_master\n",
    "                  WHERE type='table';\"\"\")\n",
    "cursor_dev.fetchall()"
   ]
  },
  {
   "cell_type": "code",
   "execution_count": 173,
   "metadata": {},
   "outputs": [],
   "source": [
    "# закрытие соединения с базой данных\n",
    "connection_dev.close()"
   ]
  },
  {
   "cell_type": "markdown",
   "metadata": {},
   "source": [
    "### ETL"
   ]
  },
  {
   "cell_type": "code",
   "execution_count": 4,
   "metadata": {},
   "outputs": [
    {
     "name": "stdout",
     "output_type": "stream",
     "text": [
      "База данных успешно открыта\n"
     ]
    }
   ],
   "source": [
    "# создание подключения к базе данных\n",
    "connect_prod = psycopg2.connect(database=\"my_game\",\n",
    "                           user=\"player\",\n",
    "                           password=\"my_pass\",\n",
    "                           host=\"localhost\",\n",
    "                           port=\"5432\")\n",
    "\n",
    "print('База данных успешно открыта')"
   ]
  },
  {
   "cell_type": "code",
   "execution_count": 5,
   "metadata": {},
   "outputs": [],
   "source": [
    "# создание объекта курсора подключения к базе данных\n",
    "cursor_prod = connect_prod.cursor()"
   ]
  },
  {
   "cell_type": "code",
   "execution_count": 6,
   "metadata": {},
   "outputs": [
    {
     "data": {
      "text/plain": [
       "[('alembic_version',),\n",
       " ('admins',),\n",
       " ('games',),\n",
       " ('game_sessions',),\n",
       " ('players',),\n",
       " ('themes',),\n",
       " ('questions',)]"
      ]
     },
     "execution_count": 6,
     "metadata": {},
     "output_type": "execute_result"
    }
   ],
   "source": [
    "# вывод наименований таблиц в базе данных\n",
    "cursor_prod.execute(\"\"\"SELECT table_name\n",
    "                       FROM information_schema.tables\n",
    "                       WHERE table_schema NOT IN ('information_schema', 'pg_catalog')\n",
    "                             AND table_schema IN('public', 'myschema');\"\"\")\n",
    "cursor_prod.fetchall()"
   ]
  },
  {
   "cell_type": "code",
   "execution_count": 11,
   "metadata": {},
   "outputs": [
    {
     "data": {
      "text/plain": [
       "[('Зоопарки', 1),\n",
       " ('Книжные разбойники', 1),\n",
       " ('Меткий стрелок', 1),\n",
       " ('Семья композитора', 1),\n",
       " ('Транспорт', 1),\n",
       " ('…ура…', 1),\n",
       " ('Вопросы от…', 2),\n",
       " ('Кинофразы', 2),\n",
       " ('Ошибочка вышла', 2),\n",
       " ('Президенты', 2),\n",
       " ('Станки', 2),\n",
       " ('Чашка чая', 2),\n",
       " ('Бароны', 3),\n",
       " ('Вот так номер!', 3),\n",
       " ('Калмыкия', 3),\n",
       " ('Маленькие хищники', 3),\n",
       " ('На помощь!', 3),\n",
       " ('Параллели и меридианы', 3)]"
      ]
     },
     "execution_count": 11,
     "metadata": {},
     "output_type": "execute_result"
    }
   ],
   "source": [
    "# темы игры\n",
    "cursor_dev.execute(\"\"\"SELECT theme_title, MIN(points) / 100\n",
    "                      FROM questions\n",
    "                      INNER JOIN themes USING(theme_id)\n",
    "                      GROUP BY theme_title\n",
    "                      ORDER BY points;\"\"\")\n",
    "themes = cursor_dev.fetchall()\n",
    "themes"
   ]
  },
  {
   "cell_type": "code",
   "execution_count": 12,
   "metadata": {},
   "outputs": [
    {
     "name": "stdout",
     "output_type": "stream",
     "text": [
      "['id', 'title', 'lap']\n"
     ]
    }
   ],
   "source": [
    "cursor_prod.execute(\"\"\"SELECT column_name \n",
    "                       FROM information_schema.columns \n",
    "                       WHERE table_name = 'themes';\"\"\")\n",
    "columnsname = [_[0] for _ in cursor_prod.fetchall()]\n",
    "print(columnsname)"
   ]
  },
  {
   "cell_type": "code",
   "execution_count": 13,
   "metadata": {},
   "outputs": [],
   "source": [
    "# запись данных в таблицу заказы - \"themes\"\n",
    "cursor_prod.executemany(\"\"\"INSERT INTO themes\n",
    "                        (title, lap)\n",
    "                        VALUES (%s, %s);\"\"\", themes)\n",
    "connect_prod.commit() "
   ]
  },
  {
   "cell_type": "code",
   "execution_count": 14,
   "metadata": {},
   "outputs": [
    {
     "data": {
      "text/plain": [
       "[(1, 'Зоопарки', 1),\n",
       " (2, 'Книжные разбойники', 1),\n",
       " (3, 'Меткий стрелок', 1),\n",
       " (4, 'Семья композитора', 1),\n",
       " (5, 'Транспорт', 1)]"
      ]
     },
     "execution_count": 14,
     "metadata": {},
     "output_type": "execute_result"
    }
   ],
   "source": [
    "# проверка записи данных в таблицу \"themes\"\n",
    "cursor_prod.execute(\"\"\"SELECT *\n",
    "                       FROM themes\n",
    "                       LIMIT 5;\"\"\")\n",
    "cursor_prod.fetchall()"
   ]
  },
  {
   "cell_type": "code",
   "execution_count": 15,
   "metadata": {},
   "outputs": [],
   "source": [
    "# получение id наименования темы\n",
    "def select_theme_id(title: str) -> int:\n",
    "\n",
    "    \"\"\" функция получения идентификатора темы\n",
    "    по ее наименованию\n",
    "\n",
    "    Args:\n",
    "        theme_title (str): наименование темы\n",
    "\n",
    "    Returns:\n",
    "        int: идентификатор темы\n",
    "    \"\"\"\n",
    "\n",
    "    cursor_prod.execute(\"\"\"SELECT id\n",
    "                    FROM themes\n",
    "                    WHERE title = (%s);\"\"\", (title,))\n",
    "    \n",
    "    return cursor_prod.fetchone()[0]"
   ]
  },
  {
   "cell_type": "code",
   "execution_count": 12,
   "metadata": {},
   "outputs": [
    {
     "data": {
      "text/plain": [
       "5"
      ]
     },
     "execution_count": 12,
     "metadata": {},
     "output_type": "execute_result"
    }
   ],
   "source": [
    "select_theme_id(\"Станки\")"
   ]
  },
  {
   "cell_type": "code",
   "execution_count": 16,
   "metadata": {},
   "outputs": [
    {
     "data": {
      "text/plain": [
       "[('На вопрос, как им удавалось сохранить семейное счастье, эти супруги отвечали: «Зная мы ответ, давно бы получили Нобелевскую премию по психологии».',\n",
       "  'Майя Плисецкая и Родион Щедрин',\n",
       "  300,\n",
       "  '/w/images/f/f9/RU-SI-2017-01-21-4.jpg',\n",
       "  None,\n",
       "  'Семья композитора'),\n",
       " ('В стихотворении «Разбойник» 1915 года он писал:\\r\\n«Стухнут звёзды, стухнет месяц,\\r\\nСтихнет песня соловья,\\r\\nВ чернобылье перелесиц\\r\\nС кистенём засяду я».',\n",
       "  'Сергей Александрович Есенин',\n",
       "  300,\n",
       "  None,\n",
       "  None,\n",
       "  'Книжные разбойники')]"
      ]
     },
     "execution_count": 16,
     "metadata": {},
     "output_type": "execute_result"
    }
   ],
   "source": [
    "# вопросы игры\n",
    "cursor_dev.execute(\"\"\"SELECT question_title, answer, points, image_href, audio_href, theme_title\n",
    "                      FROM questions\n",
    "                      INNER JOIN themes USING(theme_id);\"\"\")\n",
    "questions = cursor_dev.fetchall()\n",
    "questions[:2]"
   ]
  },
  {
   "cell_type": "code",
   "execution_count": 17,
   "metadata": {},
   "outputs": [
    {
     "name": "stdout",
     "output_type": "stream",
     "text": [
      "['id', 'title', 'theme_id', 'answers', 'points', 'image_href', 'audio_href', 'media_id']\n"
     ]
    }
   ],
   "source": [
    "cursor_prod.execute(\"\"\"SELECT column_name \n",
    "                       FROM information_schema.columns \n",
    "                       WHERE table_name = 'questions';\"\"\")\n",
    "columnsname = [_[0] for _ in cursor_prod.fetchall()]\n",
    "print(columnsname)"
   ]
  },
  {
   "cell_type": "code",
   "execution_count": 18,
   "metadata": {},
   "outputs": [],
   "source": [
    "# запись в базу данных\n",
    "def insetr_questions(question_title: str, answers: str, points: int, image_href: str, audio_href: str, theme_title: str) -> None:\n",
    "\n",
    "    theme_id = select_theme_id(theme_title)\n",
    "\n",
    "    question_title = question_title.replace(\"\\n\", \"%0a\")\n",
    "\n",
    "    cursor_prod.execute(\"\"\"INSERT INTO questions\n",
    "                        (title, theme_id, answers, points, image_href, audio_href)\n",
    "                        VALUES(%s, %s, %s, %s, %s, %s);\"\"\", (question_title, theme_id, answers, points, image_href, audio_href,))\n",
    "    connect_prod.commit()"
   ]
  },
  {
   "cell_type": "code",
   "execution_count": 20,
   "metadata": {},
   "outputs": [],
   "source": [
    "for question_title, answers, points, image_href, audio_href, theme_title in questions:\n",
    "    insetr_questions(question_title, answers, points, image_href, audio_href, theme_title)"
   ]
  },
  {
   "cell_type": "code",
   "execution_count": 21,
   "metadata": {},
   "outputs": [
    {
     "data": {
      "text/plain": [
       "[(1,\n",
       "  'На вопрос, как им удавалось сохранить семейное счастье, эти супруги отвечали: «Зная мы ответ, давно бы получили Нобелевскую премию по психологии».',\n",
       "  4,\n",
       "  'Майя Плисецкая и Родион Щедрин',\n",
       "  300,\n",
       "  '/w/images/f/f9/RU-SI-2017-01-21-4.jpg',\n",
       "  None,\n",
       "  None),\n",
       " (2,\n",
       "  'В стихотворении «Разбойник» 1915 года он писал:\\r%0a«Стухнут звёзды, стухнет месяц,\\r%0aСтихнет песня соловья,\\r%0aВ чернобылье перелесиц\\r%0aС кистенём засяду я».',\n",
       "  2,\n",
       "  'Сергей Александрович Есенин',\n",
       "  300,\n",
       "  None,\n",
       "  None,\n",
       "  None),\n",
       " (3,\n",
       "  'Его брак с Марии-Анне Келлер не принёс счастья ни одному из супругов. Детей у них не было, а партитуры использовались на папильотки и подставки для паштета.',\n",
       "  4,\n",
       "  'Йозеф Гайдн',\n",
       "  500,\n",
       "  None,\n",
       "  '/w/images/c/c2/RU-SI-2017-01-21-1.mp3',\n",
       "  None),\n",
       " (4,\n",
       "  'Работая над «Парсифалем», он, по его словам, не мог сочинить ни ноты, если рядом не было жены Козимы. На день рождения супруги он нанял оркестр, исполнивший прелюдию к «Парсифалю».',\n",
       "  4,\n",
       "  'Рихард Вагнер',\n",
       "  400,\n",
       "  None,\n",
       "  None,\n",
       "  None),\n",
       " (5,\n",
       "  'Фридрих Вик долго не давал согласия на брак дочери, но по решению суда Клара стала именно его женой и родила ему 8 детей. С отцом помирились года через три.',\n",
       "  4,\n",
       "  'Роберт Шуман',\n",
       "  200,\n",
       "  None,\n",
       "  None,\n",
       "  None)]"
      ]
     },
     "execution_count": 21,
     "metadata": {},
     "output_type": "execute_result"
    }
   ],
   "source": [
    "# проверка записи данных в таблицу \"questions\"\n",
    "cursor_prod.execute(\"\"\"SELECT *\n",
    "                       FROM questions\n",
    "                       LIMIT 5;\"\"\")\n",
    "cursor_prod.fetchall()"
   ]
  },
  {
   "cell_type": "code",
   "execution_count": 22,
   "metadata": {},
   "outputs": [],
   "source": [
    "def _build_query(host: str, method: str, params: dict) -> str:\n",
    "\n",
    "    \"\"\"функция генерации запроса в VK API\n",
    "\n",
    "    Args:\n",
    "        host (str): хост\n",
    "        method (str): метод\n",
    "        params (dict): параметры\n",
    "\n",
    "    Returns:\n",
    "        str: запрос\n",
    "    \"\"\"\n",
    "\n",
    "    url = host + method + \"?\"\n",
    "    if \"v\" not in params:\n",
    "        params[\"v\"] = \"5.131\"\n",
    "    url += \"&\".join([f\"{k}={v}\" for k, v in params.items()])\n",
    "    \n",
    "    return url"
   ]
  },
  {
   "cell_type": "code",
   "execution_count": 23,
   "metadata": {},
   "outputs": [
    {
     "data": {
      "text/plain": [
       "'https://api.vk.com/method/photos.getMessagesUploadServer?group_id=204178645&access_token=vk1.a.U_fU3KNn13l0emj5gMgEfBmRTOWeIVG5Bu8BrubjQOSv3pTjLFyG8thGjjYHE4nA40DrL_i-JSwH8jLBz8TRzFL4v_bNhIcNzPh-n5cERJ_NKXHNm4Ikg1D3uuhxsFrXg1rtLypWEhjLtwu7Pf4MpgHOd9JGdOpSJrQs-OfCbdw5sW-uzk1hyH_L6S28kwfythPjbaG3FoUl_Gygrg4bPg&v=5.131'"
      ]
     },
     "execution_count": 23,
     "metadata": {},
     "output_type": "execute_result"
    }
   ],
   "source": [
    "# сервер для загрузки фото\n",
    "query = _build_query(\n",
    "    \"https://api.vk.com/\",\n",
    "    \"method/photos.getMessagesUploadServer\",\n",
    "    {\"group_id\": GROUP_ID,\n",
    "    \"access_token\": TOKEN}\n",
    "    )\n",
    "query"
   ]
  },
  {
   "cell_type": "code",
   "execution_count": 24,
   "metadata": {},
   "outputs": [
    {
     "data": {
      "text/plain": [
       "{'response': {'album_id': -64,\n",
       "  'upload_url': 'https://pu.vk.com/c231331/ss2269/upload.php?act=do_add&mid=52428910&aid=-64&gid=204178645&hash=9a10a515b0f4924a4bb3aec8797eb936&rhash=f15f3330bb34f320db71c2de5f31b992&swfupload=1&api=1&mailphoto=1',\n",
       "  'user_id': 0,\n",
       "  'group_id': 204178645}}"
      ]
     },
     "execution_count": 24,
     "metadata": {},
     "output_type": "execute_result"
    }
   ],
   "source": [
    "# сервер для загрузки фото\n",
    "resposen = requests.get(query)\n",
    "resposen_body = resposen.json()\n",
    "resposen_body"
   ]
  },
  {
   "cell_type": "code",
   "execution_count": 25,
   "metadata": {},
   "outputs": [
    {
     "data": {
      "text/plain": [
       "'https://pu.vk.com/c231331/ss2269/upload.php?act=do_add&mid=52428910&aid=-64&gid=204178645&hash=9a10a515b0f4924a4bb3aec8797eb936&rhash=f15f3330bb34f320db71c2de5f31b992&swfupload=1&api=1&mailphoto=1'"
      ]
     },
     "execution_count": 25,
     "metadata": {},
     "output_type": "execute_result"
    }
   ],
   "source": [
    "# адрес сервера\n",
    "upload_url = resposen_body[\"response\"][\"upload_url\"]\n",
    "upload_url"
   ]
  },
  {
   "cell_type": "code",
   "execution_count": 26,
   "metadata": {},
   "outputs": [
    {
     "data": {
      "text/plain": [
       "[(1, '/w/images/f/f9/RU-SI-2017-01-21-4.jpg'),\n",
       " (10, '/w/images/7/76/RU-SI-2017-01-21-5.jpg'),\n",
       " (15, '/w/images/5/57/RU-SI-2017-01-21-9.jpg'),\n",
       " (19, '/w/images/8/8d/RU-SI-2017-01-21-10.jpg'),\n",
       " (30, '/w/images/6/60/RU-SI-2017-01-21-8.jpg'),\n",
       " (31, '/w/images/4/43/RU-SI-2017-01-21-11.jpg'),\n",
       " (35, '/w/images/b/bc/RU-SI-2017-01-21-12.jpg'),\n",
       " (41, '/w/images/7/7f/RU-SI-2017-01-21-13.jpg'),\n",
       " (43, '/w/images/2/22/RU-SI-2017-01-21-14.jpg'),\n",
       " (44, '/w/images/f/fa/RU-SI-2017-01-21-15.jpg'),\n",
       " (45, '/w/images/1/10/RU-SI-2017-01-21-18.jpg'),\n",
       " (47, '/w/images/f/fb/RU-SI-2017-01-21-19.jpg'),\n",
       " (54, '/w/images/7/73/RU-SI-2017-01-21-20.jpg'),\n",
       " (62, '/w/images/4/48/RU-SI-2017-01-21-21.jpg'),\n",
       " (69, '/w/images/e/ed/RU-SI-2017-01-21-22.jpg'),\n",
       " (73, '/w/images/5/5c/RU-SI-2017-01-21-23.jpg'),\n",
       " (90, '/w/images/9/98/RU-SI-2017-01-21-24.jpg')]"
      ]
     },
     "execution_count": 26,
     "metadata": {},
     "output_type": "execute_result"
    }
   ],
   "source": [
    "# проверка записи данных в таблицу \"questions\"\n",
    "cursor_prod.execute(\"\"\"SELECT id, image_href\n",
    "                       FROM questions\n",
    "                       WHERE image_href IS NOT NULL;\"\"\")\n",
    "image_href = cursor_prod.fetchall()\n",
    "image_href"
   ]
  },
  {
   "cell_type": "code",
   "execution_count": 27,
   "metadata": {},
   "outputs": [
    {
     "data": {
      "text/plain": [
       "17"
      ]
     },
     "execution_count": 27,
     "metadata": {},
     "output_type": "execute_result"
    }
   ],
   "source": [
    "len(image_href)"
   ]
  },
  {
   "cell_type": "code",
   "execution_count": 28,
   "metadata": {},
   "outputs": [
    {
     "data": {
      "text/plain": [
       "'RU-SI-2017-01-21-4.jpg'"
      ]
     },
     "execution_count": 28,
     "metadata": {},
     "output_type": "execute_result"
    }
   ],
   "source": [
    "image_href[0][1].split(\"/\")[-1]"
   ]
  },
  {
   "cell_type": "code",
   "execution_count": 29,
   "metadata": {},
   "outputs": [],
   "source": [
    "def get_image_data(path):\n",
    "    # загрузка фото вопроса\n",
    "    resposen = requests.post(upload_url, files={\"photo\" : open(rf\"C:\\Users\\rus_k\\my_game\\content\\images\\{path}\", \"rb\")})\n",
    "    resposen_body = resposen.json()\n",
    "    # парамептры доступа\n",
    "    server = resposen_body[\"server\"]\n",
    "    photo = resposen_body[\"photo\"]\n",
    "    hash = resposen_body[\"hash\"]\n",
    "    return server, photo, hash"
   ]
  },
  {
   "cell_type": "code",
   "execution_count": 30,
   "metadata": {},
   "outputs": [],
   "source": [
    "def post_image(server, photo, hash, TOKEN): # загрузка фото\n",
    "\n",
    "    query = _build_query(\n",
    "        \"https://api.vk.com/\",\n",
    "        \"method/photos.saveMessagesPhoto\",\n",
    "        {\"access_token\": TOKEN,\n",
    "        \"photo\" : photo,\n",
    "        \"server\" : server,\n",
    "        \"hash\" : hash\n",
    "        }\n",
    "        )\n",
    "    # загрузка фото\n",
    "    resposen = requests.get(query)\n",
    "    resposen_body = resposen.json()\n",
    "    #  параметры запроса\n",
    "    media_id = resposen_body[\"response\"][0][\"id\"]\n",
    "\n",
    "    return media_id"
   ]
  },
  {
   "cell_type": "code",
   "execution_count": 31,
   "metadata": {},
   "outputs": [],
   "source": [
    "# запись в базу данных\n",
    "def update_image_questions(id: int, media_id: int) -> None:\n",
    "\n",
    "\n",
    "    cursor_prod.execute(\"\"\"UPDATE questions\n",
    "                        SET media_id = (%s)\n",
    "                        WHERE id = (%s);\"\"\",\n",
    "                        (media_id, id)) \n",
    "    connect_prod.commit()\n"
   ]
  },
  {
   "cell_type": "code",
   "execution_count": 32,
   "metadata": {},
   "outputs": [
    {
     "name": "stdout",
     "output_type": "stream",
     "text": [
      "457239096\n",
      "457239097\n",
      "457239098\n",
      "457239099\n",
      "457239100\n",
      "457239101\n",
      "457239102\n",
      "457239103\n",
      "457239104\n",
      "457239105\n",
      "457239106\n",
      "457239107\n",
      "457239108\n",
      "457239109\n",
      "457239110\n",
      "457239111\n",
      "457239112\n"
     ]
    }
   ],
   "source": [
    "for id, href in image_href:\n",
    "    \n",
    "    path = href.split(\"/\")[-1]\n",
    "\n",
    "    server, photo, hash = get_image_data(path)\n",
    "    media_id = post_image(server, photo, hash, TOKEN)\n",
    "    print(media_id)\n",
    "    update_image_questions(id, media_id)"
   ]
  },
  {
   "cell_type": "code",
   "execution_count": null,
   "metadata": {},
   "outputs": [],
   "source": [
    "connect_prod.close()\n",
    "connection_dev.close()"
   ]
  }
 ],
 "metadata": {
  "kernelspec": {
   "display_name": "venv",
   "language": "python",
   "name": "python3"
  },
  "language_info": {
   "codemirror_mode": {
    "name": "ipython",
    "version": 3
   },
   "file_extension": ".py",
   "mimetype": "text/x-python",
   "name": "python",
   "nbconvert_exporter": "python",
   "pygments_lexer": "ipython3",
   "version": "3.11.3"
  },
  "orig_nbformat": 4
 },
 "nbformat": 4,
 "nbformat_minor": 2
}
