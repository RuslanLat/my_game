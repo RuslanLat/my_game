{
 "cells": [
  {
   "cell_type": "code",
   "execution_count": 1,
   "metadata": {},
   "outputs": [],
   "source": [
    "import pika"
   ]
  },
  {
   "cell_type": "code",
   "execution_count": 2,
   "metadata": {},
   "outputs": [],
   "source": [
    "credentials = pika.PlainCredentials('rmuser', 'rmpassword')"
   ]
  },
  {
   "cell_type": "code",
   "execution_count": 3,
   "metadata": {},
   "outputs": [],
   "source": [
    "parameters = pika.ConnectionParameters(host='localhost',\n",
    "                                       heartbeat=0,\n",
    "                                       credentials=credentials)"
   ]
  },
  {
   "cell_type": "code",
   "execution_count": 4,
   "metadata": {},
   "outputs": [],
   "source": [
    "connection = pika.BlockingConnection(parameters)\n",
    "channel = connection.channel()"
   ]
  },
  {
   "cell_type": "code",
   "execution_count": 5,
   "metadata": {},
   "outputs": [
    {
     "data": {
      "text/plain": [
       "<METHOD(['channel_number=1', 'frame_type=1', \"method=<Queue.DeclareOk(['consumer_count=0', 'message_count=0', 'queue=hello'])>\"])>"
      ]
     },
     "execution_count": 5,
     "metadata": {},
     "output_type": "execute_result"
    }
   ],
   "source": [
    "# объевляем две очереди\n",
    "channel.queue_declare(queue='vk')\n",
    "channel.queue_declare(queue='bot')\n",
    "\n",
    "# имитация получения сообщения от лонгпола и отправка его в очередь\n",
    "channel.basic_publish(exchange='',\n",
    "                      routing_key='vk',\n",
    "                      body=json.dumps({\"data\" : 1, \"text\" : \"это сообщение из вк\"}))\n",
    "\n",
    "# получаем сообщение из очереди VK\n",
    "def callback(ch, method, properties, body):\n",
    "    rk = method.routing_key\n",
    "    body_str = body.decode(\"utf-8\")\n",
    "    print(f\" [x] Received {rk} {body_str}\")\n",
    "\n",
    "    # тут еще какую то логику надо прикрутить\n",
    "    body_str\n",
    "\n",
    "    # обработка сообщения менеджером и отпавка ещо в другую очередь\n",
    "    channel.basic_publish(exchange='',\n",
    "                      routing_key='bot',\n",
    "                      body=json.dumps({\"data\" : 2, \"text\" : f\"это обработанное сообщение от бота {body_str} \"}))\n",
    "\n",
    "channel.basic_consume(queue='vk',\n",
    "                      auto_ack=True,\n",
    "                      on_message_callback=callback)"
   ]
  },
  {
   "cell_type": "code",
   "execution_count": 6,
   "metadata": {},
   "outputs": [
    {
     "data": {
      "text/plain": [
       "<METHOD(['channel_number=1', 'frame_type=1', \"method=<Queue.DeclareOk(['consumer_count=0', 'message_count=0', 'queue=test'])>\"])>"
      ]
     },
     "execution_count": 6,
     "metadata": {},
     "output_type": "execute_result"
    }
   ],
   "source": [
    "channel.queue_declare(queue='test')"
   ]
  },
  {
   "cell_type": "code",
   "execution_count": 7,
   "metadata": {},
   "outputs": [],
   "source": [
    "import json"
   ]
  },
  {
   "cell_type": "code",
   "execution_count": 8,
   "metadata": {},
   "outputs": [
    {
     "name": "stdout",
     "output_type": "stream",
     "text": [
      " [x] Sent 'Hello World!'\n"
     ]
    }
   ],
   "source": [
    "channel.basic_publish(exchange='',\n",
    "                      routing_key='vk',\n",
    "                      body=json.dumps({\"data\" : 1, \"text\" : \"это сообщение из вк\"}))"
   ]
  },
  {
   "cell_type": "code",
   "execution_count": 9,
   "metadata": {},
   "outputs": [
    {
     "name": "stdout",
     "output_type": "stream",
     "text": [
      " [x] Sent 'Hello World!'\n"
     ]
    }
   ],
   "source": [
    "channel.basic_publish(exchange='',\n",
    "                      routing_key='bot',\n",
    "                      body=json.dumps({\"data\" : 2, \"r\" : \"это обработанное сообщение от бота\"}))"
   ]
  },
  {
   "cell_type": "code",
   "execution_count": 11,
   "metadata": {},
   "outputs": [],
   "source": [
    "def callback(ch, method, properties, body):\n",
    "    rk = method.routing_key\n",
    "    body_str = body.decode(\"utf-8\")\n",
    "    print(f\" [x] Received {rk} {body_str}\")\n",
    "    "
   ]
  },
  {
   "cell_type": "code",
   "execution_count": 12,
   "metadata": {},
   "outputs": [
    {
     "data": {
      "text/plain": [
       "'ctag1.fb9a04bd4096405398f2a015940f27e9'"
      ]
     },
     "execution_count": 12,
     "metadata": {},
     "output_type": "execute_result"
    }
   ],
   "source": [
    "channel.basic_consume(queue='vk',\n",
    "                      auto_ack=True,\n",
    "                      on_message_callback=callback)"
   ]
  },
  {
   "cell_type": "code",
   "execution_count": 13,
   "metadata": {},
   "outputs": [
    {
     "data": {
      "text/plain": [
       "'ctag1.689d52dc993f46988406b79277e8fe93'"
      ]
     },
     "execution_count": 13,
     "metadata": {},
     "output_type": "execute_result"
    }
   ],
   "source": [
    "channel.basic_consume(queue='bot',\n",
    "                      auto_ack=True,\n",
    "                      on_message_callback=callback)"
   ]
  },
  {
   "cell_type": "code",
   "execution_count": 14,
   "metadata": {},
   "outputs": [
    {
     "name": "stdout",
     "output_type": "stream",
     "text": [
      " [*] Waiting for messages. To exit press CTRL+C\n",
      " [x] Received {\"data\": 1, \"r\": \"fdsf\"} hello fff\n",
      " [x] Received {\"data\": 222, \"r\": \"fdsf\"} test fff\n"
     ]
    },
    {
     "ename": "KeyboardInterrupt",
     "evalue": "",
     "output_type": "error",
     "traceback": [
      "\u001b[1;31m---------------------------------------------------------------------------\u001b[0m",
      "\u001b[1;31mKeyboardInterrupt\u001b[0m                         Traceback (most recent call last)",
      "\u001b[1;32mc:\\Users\\rus_k\\my_game\\rabbitmq.ipynb Cell 14\u001b[0m line \u001b[0;36m2\n\u001b[0;32m      <a href='vscode-notebook-cell:/c%3A/Users/rus_k/my_game/rabbitmq.ipynb#X12sZmlsZQ%3D%3D?line=0'>1</a>\u001b[0m \u001b[39mprint\u001b[39m(\u001b[39m'\u001b[39m\u001b[39m [*] Waiting for messages. To exit press CTRL+C\u001b[39m\u001b[39m'\u001b[39m)\n\u001b[1;32m----> <a href='vscode-notebook-cell:/c%3A/Users/rus_k/my_game/rabbitmq.ipynb#X12sZmlsZQ%3D%3D?line=1'>2</a>\u001b[0m channel\u001b[39m.\u001b[39;49mstart_consuming()\n",
      "File \u001b[1;32mc:\\Users\\rus_k\\my_game\\venv\\Lib\\site-packages\\pika\\adapters\\blocking_connection.py:1883\u001b[0m, in \u001b[0;36mBlockingChannel.start_consuming\u001b[1;34m(self)\u001b[0m\n\u001b[0;32m   1880\u001b[0m \u001b[39m# Process events as long as consumers exist on this channel\u001b[39;00m\n\u001b[0;32m   1881\u001b[0m \u001b[39mwhile\u001b[39;00m \u001b[39mself\u001b[39m\u001b[39m.\u001b[39m_consumer_infos:\n\u001b[0;32m   1882\u001b[0m     \u001b[39m# This will raise ChannelClosed if channel is closed by broker\u001b[39;00m\n\u001b[1;32m-> 1883\u001b[0m     \u001b[39mself\u001b[39;49m\u001b[39m.\u001b[39;49m_process_data_events(time_limit\u001b[39m=\u001b[39;49m\u001b[39mNone\u001b[39;49;00m)\n",
      "File \u001b[1;32mc:\\Users\\rus_k\\my_game\\venv\\Lib\\site-packages\\pika\\adapters\\blocking_connection.py:2044\u001b[0m, in \u001b[0;36mBlockingChannel._process_data_events\u001b[1;34m(self, time_limit)\u001b[0m\n\u001b[0;32m   2025\u001b[0m \u001b[39mdef\u001b[39;00m \u001b[39m_process_data_events\u001b[39m(\u001b[39mself\u001b[39m, time_limit):\n\u001b[0;32m   2026\u001b[0m \u001b[39m    \u001b[39m\u001b[39m\"\"\"Wrapper for `BlockingConnection.process_data_events()` with common\u001b[39;00m\n\u001b[0;32m   2027\u001b[0m \u001b[39m    channel-specific logic that raises ChannelClosed if broker closed this\u001b[39;00m\n\u001b[0;32m   2028\u001b[0m \u001b[39m    channel.\u001b[39;00m\n\u001b[1;32m   (...)\u001b[0m\n\u001b[0;32m   2042\u001b[0m \n\u001b[0;32m   2043\u001b[0m \u001b[39m    \"\"\"\u001b[39;00m\n\u001b[1;32m-> 2044\u001b[0m     \u001b[39mself\u001b[39;49m\u001b[39m.\u001b[39;49mconnection\u001b[39m.\u001b[39;49mprocess_data_events(time_limit\u001b[39m=\u001b[39;49mtime_limit)\n\u001b[0;32m   2045\u001b[0m     \u001b[39mif\u001b[39;00m \u001b[39mself\u001b[39m\u001b[39m.\u001b[39mis_closed \u001b[39mand\u001b[39;00m \u001b[39misinstance\u001b[39m(\u001b[39mself\u001b[39m\u001b[39m.\u001b[39m_closing_reason,\n\u001b[0;32m   2046\u001b[0m                                      exceptions\u001b[39m.\u001b[39mChannelClosedByBroker):\n\u001b[0;32m   2047\u001b[0m         LOGGER\u001b[39m.\u001b[39mdebug(\u001b[39m'\u001b[39m\u001b[39mChannel close by broker detected, raising \u001b[39m\u001b[39m%r\u001b[39;00m\u001b[39m; \u001b[39m\u001b[39m%r\u001b[39;00m\u001b[39m'\u001b[39m,\n\u001b[0;32m   2048\u001b[0m                      \u001b[39mself\u001b[39m\u001b[39m.\u001b[39m_closing_reason, \u001b[39mself\u001b[39m)\n",
      "File \u001b[1;32mc:\\Users\\rus_k\\my_game\\venv\\Lib\\site-packages\\pika\\adapters\\blocking_connection.py:842\u001b[0m, in \u001b[0;36mBlockingConnection.process_data_events\u001b[1;34m(self, time_limit)\u001b[0m\n\u001b[0;32m    838\u001b[0m common_terminator \u001b[39m=\u001b[39m \u001b[39mlambda\u001b[39;00m: \u001b[39mbool\u001b[39m(dispatch_acquired \u001b[39mand\u001b[39;00m\n\u001b[0;32m    839\u001b[0m                                  (\u001b[39mself\u001b[39m\u001b[39m.\u001b[39m_channels_pending_dispatch \u001b[39mor\u001b[39;00m\n\u001b[0;32m    840\u001b[0m                                   \u001b[39mself\u001b[39m\u001b[39m.\u001b[39m_ready_events))\n\u001b[0;32m    841\u001b[0m \u001b[39mif\u001b[39;00m time_limit \u001b[39mis\u001b[39;00m \u001b[39mNone\u001b[39;00m:\n\u001b[1;32m--> 842\u001b[0m     \u001b[39mself\u001b[39;49m\u001b[39m.\u001b[39;49m_flush_output(common_terminator)\n\u001b[0;32m    843\u001b[0m \u001b[39melse\u001b[39;00m:\n\u001b[0;32m    844\u001b[0m     \u001b[39mwith\u001b[39;00m _IoloopTimerContext(time_limit, \u001b[39mself\u001b[39m\u001b[39m.\u001b[39m_impl) \u001b[39mas\u001b[39;00m timer:\n",
      "File \u001b[1;32mc:\\Users\\rus_k\\my_game\\venv\\Lib\\site-packages\\pika\\adapters\\blocking_connection.py:514\u001b[0m, in \u001b[0;36mBlockingConnection._flush_output\u001b[1;34m(self, *waiters)\u001b[0m\n\u001b[0;32m    512\u001b[0m \u001b[39m# Process I/O until our completion condition is satisfied\u001b[39;00m\n\u001b[0;32m    513\u001b[0m \u001b[39mwhile\u001b[39;00m \u001b[39mnot\u001b[39;00m is_done():\n\u001b[1;32m--> 514\u001b[0m     \u001b[39mself\u001b[39;49m\u001b[39m.\u001b[39;49m_impl\u001b[39m.\u001b[39;49mioloop\u001b[39m.\u001b[39;49mpoll()\n\u001b[0;32m    515\u001b[0m     \u001b[39mself\u001b[39m\u001b[39m.\u001b[39m_impl\u001b[39m.\u001b[39mioloop\u001b[39m.\u001b[39mprocess_timeouts()\n\u001b[0;32m    517\u001b[0m \u001b[39mif\u001b[39;00m \u001b[39mself\u001b[39m\u001b[39m.\u001b[39m_closed_result\u001b[39m.\u001b[39mready:\n",
      "File \u001b[1;32mc:\\Users\\rus_k\\my_game\\venv\\Lib\\site-packages\\pika\\adapters\\select_connection.py:579\u001b[0m, in \u001b[0;36mIOLoop.poll\u001b[1;34m(self)\u001b[0m\n\u001b[0;32m    572\u001b[0m \u001b[39mdef\u001b[39;00m \u001b[39mpoll\u001b[39m(\u001b[39mself\u001b[39m):\n\u001b[0;32m    573\u001b[0m \u001b[39m    \u001b[39m\u001b[39m\"\"\"[Extension] Wait for events of interest on registered file\u001b[39;00m\n\u001b[0;32m    574\u001b[0m \u001b[39m    descriptors until an event of interest occurs or next timer deadline or\u001b[39;00m\n\u001b[0;32m    575\u001b[0m \u001b[39m    `_PollerBase._MAX_POLL_TIMEOUT`, whichever is sooner, and dispatch the\u001b[39;00m\n\u001b[0;32m    576\u001b[0m \u001b[39m    corresponding event handlers.\u001b[39;00m\n\u001b[0;32m    577\u001b[0m \n\u001b[0;32m    578\u001b[0m \u001b[39m    \"\"\"\u001b[39;00m\n\u001b[1;32m--> 579\u001b[0m     \u001b[39mself\u001b[39;49m\u001b[39m.\u001b[39;49m_poller\u001b[39m.\u001b[39;49mpoll()\n",
      "File \u001b[1;32mc:\\Users\\rus_k\\my_game\\venv\\Lib\\site-packages\\pika\\adapters\\select_connection.py:953\u001b[0m, in \u001b[0;36mSelectPoller.poll\u001b[1;34m(self)\u001b[0m\n\u001b[0;32m    949\u001b[0m \u001b[39mtry\u001b[39;00m:\n\u001b[0;32m    950\u001b[0m     \u001b[39mif\u001b[39;00m (\u001b[39mself\u001b[39m\u001b[39m.\u001b[39m_fd_events[PollEvents\u001b[39m.\u001b[39mREAD] \u001b[39mor\u001b[39;00m\n\u001b[0;32m    951\u001b[0m             \u001b[39mself\u001b[39m\u001b[39m.\u001b[39m_fd_events[PollEvents\u001b[39m.\u001b[39mWRITE] \u001b[39mor\u001b[39;00m\n\u001b[0;32m    952\u001b[0m             \u001b[39mself\u001b[39m\u001b[39m.\u001b[39m_fd_events[PollEvents\u001b[39m.\u001b[39mERROR]):\n\u001b[1;32m--> 953\u001b[0m         read, write, error \u001b[39m=\u001b[39m select\u001b[39m.\u001b[39mselect(\n\u001b[0;32m    954\u001b[0m             \u001b[39mself\u001b[39m\u001b[39m.\u001b[39m_fd_events[PollEvents\u001b[39m.\u001b[39mREAD],\n\u001b[0;32m    955\u001b[0m             \u001b[39mself\u001b[39m\u001b[39m.\u001b[39m_fd_events[PollEvents\u001b[39m.\u001b[39mWRITE],\n\u001b[0;32m    956\u001b[0m             \u001b[39mself\u001b[39m\u001b[39m.\u001b[39m_fd_events[PollEvents\u001b[39m.\u001b[39mERROR], \u001b[39mself\u001b[39m\u001b[39m.\u001b[39m_get_max_wait())\n\u001b[0;32m    957\u001b[0m     \u001b[39melse\u001b[39;00m:\n\u001b[0;32m    958\u001b[0m         \u001b[39m# NOTE When called without any FDs, select fails on\u001b[39;00m\n\u001b[0;32m    959\u001b[0m         \u001b[39m# Windows with error 10022, 'An invalid argument was\u001b[39;00m\n\u001b[0;32m    960\u001b[0m         \u001b[39m# supplied'.\u001b[39;00m\n\u001b[0;32m    961\u001b[0m         time\u001b[39m.\u001b[39msleep(\u001b[39mself\u001b[39m\u001b[39m.\u001b[39m_get_max_wait())\n",
      "\u001b[1;31mKeyboardInterrupt\u001b[0m: "
     ]
    }
   ],
   "source": [
    "print(' [*] Waiting for messages. To exit press CTRL+C')\n",
    "channel.start_consuming()"
   ]
  },
  {
   "cell_type": "code",
   "execution_count": 26,
   "metadata": {},
   "outputs": [],
   "source": [
    "channel.stop_consuming()"
   ]
  },
  {
   "cell_type": "code",
   "execution_count": null,
   "metadata": {},
   "outputs": [],
   "source": [
    "connection.close()"
   ]
  }
 ],
 "metadata": {
  "kernelspec": {
   "display_name": "venv",
   "language": "python",
   "name": "python3"
  },
  "language_info": {
   "codemirror_mode": {
    "name": "ipython",
    "version": 3
   },
   "file_extension": ".py",
   "mimetype": "text/x-python",
   "name": "python",
   "nbconvert_exporter": "python",
   "pygments_lexer": "ipython3",
   "version": "3.11.3"
  },
  "orig_nbformat": 4
 },
 "nbformat": 4,
 "nbformat_minor": 2
}
